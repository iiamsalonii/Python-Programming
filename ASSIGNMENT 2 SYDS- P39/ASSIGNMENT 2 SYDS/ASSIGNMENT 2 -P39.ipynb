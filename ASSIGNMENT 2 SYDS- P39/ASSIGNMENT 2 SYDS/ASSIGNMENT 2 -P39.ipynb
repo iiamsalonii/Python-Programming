{
 "cells": [
  {
   "cell_type": "markdown",
   "id": "1f341085",
   "metadata": {},
   "source": [
    "# Python Assignment 2 S.Y. D. S"
   ]
  },
  {
   "cell_type": "markdown",
   "id": "da195e4c",
   "metadata": {},
   "source": [
    "# Basic Exercises on Data Importing - Understanding - Manipulating - Analysis - Visualization"
   ]
  },
  {
   "cell_type": "markdown",
   "id": "5505e89d",
   "metadata": {},
   "source": [
    "# Section-1: The pupose of the below exercises (1-7) is to create dictionary and convert into dataframes, how to diplay etc..."
   ]
  },
  {
   "cell_type": "markdown",
   "id": "43398b6a",
   "metadata": {},
   "source": [
    "# The below exercises required to create data"
   ]
  },
  {
   "cell_type": "markdown",
   "id": "18f80fbf",
   "metadata": {},
   "source": [
    "# 1. Import the necessary libraries (pandas, numpy, datetime, re etc)"
   ]
  },
  {
   "cell_type": "code",
   "execution_count": 2,
   "id": "62de73ba",
   "metadata": {},
   "outputs": [],
   "source": [
    "import pandas as pd\n",
    "import numpy as np\n",
    "import matplotlib.pyplot as plt\n",
    "import datetime as dt\n",
    "import seaborn as sns\n",
    "import re\n",
    "\n",
    "# set the graphs to show in the jupyter notebook\n",
    "%matplotlib inline\n",
    "\n",
    "# set seabor graphs to a better style\n",
    "sns.set(style=\"ticks\")"
   ]
  },
  {
   "cell_type": "markdown",
   "id": "794a2619",
   "metadata": {},
   "source": [
    "2. Run the below line of code to create a dictionary and this will be used for below exercises¶"
   ]
  },
  {
   "cell_type": "code",
   "execution_count": 1,
   "id": "9ceea721",
   "metadata": {},
   "outputs": [],
   "source": [
    "raw_data = {\"name\": ['Bulbasaur', 'Charmander','Squirtle','Caterpie'],\n",
    "            \"evolution\": ['Ivysaur','Charmeleon','Wartortle','Metapod'],\n",
    "            \"type\": ['grass', 'fire', 'water', 'bug'],\n",
    "            \"hp\": [45, 39, 44, 45],\n",
    "            \"pokedex\": ['yes', 'no','yes','no']                        \n",
    "            }"
   ]
  },
  {
   "cell_type": "code",
   "execution_count": null,
   "id": "ba66687b",
   "metadata": {},
   "outputs": [],
   "source": []
  },
  {
   "cell_type": "markdown",
   "id": "c48d1a72",
   "metadata": {},
   "source": [
    "3. Assign it to a object called pokemon and it should be a pandas DataFrame"
   ]
  },
  {
   "cell_type": "code",
   "execution_count": 2,
   "id": "7766dd59",
   "metadata": {},
   "outputs": [],
   "source": [
    "import pandas as pd\n",
    "\n",
    "raw_data = {\"name\": ['Bulbasaur', 'Charmander','Squirtle','Caterpie'],\n",
    "            \"evolution\": ['Ivysaur','Charmeleon','Wartortle','Metapod'],\n",
    "            \"type\": ['grass', 'fire', 'water', 'bug'],\n",
    "            \"hp\": [45, 39, 44, 45],\n",
    "            \"pokedex\": ['yes', 'no','yes','no']                        \n",
    "            }\n",
    "\n",
    "pokemon = pd.DataFrame(raw_data)\n"
   ]
  },
  {
   "cell_type": "markdown",
   "id": "b1fe24d9",
   "metadata": {},
   "source": [
    "4. If the DataFrame columns are in alphabetical order, change the order of the columns as name, type, hp, evolution, pokedex"
   ]
  },
  {
   "cell_type": "code",
   "execution_count": 3,
   "id": "f6931646",
   "metadata": {},
   "outputs": [
    {
     "name": "stdout",
     "output_type": "stream",
     "text": [
      "         name   type  hp   evolution pokedex\n",
      "0   Bulbasaur  grass  45     Ivysaur     yes\n",
      "1  Charmander   fire  39  Charmeleon      no\n",
      "2    Squirtle  water  44   Wartortle     yes\n",
      "3    Caterpie    bug  45     Metapod      no\n"
     ]
    }
   ],
   "source": [
    "pokemon = pokemon[['name', 'type', 'hp', 'evolution', 'pokedex']]\n",
    "print(pokemon)\n"
   ]
  },
  {
   "cell_type": "markdown",
   "id": "4a1efd73",
   "metadata": {},
   "source": [
    "5. Add another column called place, and insert places (lakes, parks, hills, forest etc) of your choice."
   ]
  },
  {
   "cell_type": "code",
   "execution_count": 4,
   "id": "ca2c187f",
   "metadata": {},
   "outputs": [
    {
     "name": "stdout",
     "output_type": "stream",
     "text": [
      "         name   type  hp   evolution pokedex   place\n",
      "0   Bulbasaur  grass  45     Ivysaur     yes   lakes\n",
      "1  Charmander   fire  39  Charmeleon      no   parks\n",
      "2    Squirtle  water  44   Wartortle     yes   hills\n",
      "3    Caterpie    bug  45     Metapod      no  forest\n"
     ]
    }
   ],
   "source": [
    "pokemon['place'] = ['lakes', 'parks', 'hills', 'forest']\n",
    "print(pokemon)\n"
   ]
  },
  {
   "cell_type": "markdown",
   "id": "e9961edf",
   "metadata": {},
   "source": [
    "6. Display the data type of each column"
   ]
  },
  {
   "cell_type": "code",
   "execution_count": 5,
   "id": "9808f66a",
   "metadata": {},
   "outputs": [
    {
     "name": "stdout",
     "output_type": "stream",
     "text": [
      "name         object\n",
      "type         object\n",
      "hp            int64\n",
      "evolution    object\n",
      "pokedex      object\n",
      "place        object\n",
      "dtype: object\n"
     ]
    }
   ],
   "source": [
    "print(pokemon.dtypes)\n"
   ]
  },
  {
   "cell_type": "markdown",
   "id": "0aa5a063",
   "metadata": {},
   "source": [
    "7. Display the info of dataframe"
   ]
  },
  {
   "cell_type": "code",
   "execution_count": 6,
   "id": "119df1ea",
   "metadata": {},
   "outputs": [
    {
     "name": "stdout",
     "output_type": "stream",
     "text": [
      "<class 'pandas.core.frame.DataFrame'>\n",
      "RangeIndex: 4 entries, 0 to 3\n",
      "Data columns (total 6 columns):\n",
      " #   Column     Non-Null Count  Dtype \n",
      "---  ------     --------------  ----- \n",
      " 0   name       4 non-null      object\n",
      " 1   type       4 non-null      object\n",
      " 2   hp         4 non-null      int64 \n",
      " 3   evolution  4 non-null      object\n",
      " 4   pokedex    4 non-null      object\n",
      " 5   place      4 non-null      object\n",
      "dtypes: int64(1), object(5)\n",
      "memory usage: 324.0+ bytes\n"
     ]
    }
   ],
   "source": [
    "pokemon.info()\n"
   ]
  },
  {
   "cell_type": "markdown",
   "id": "d571425a",
   "metadata": {},
   "source": [
    "# Section-2\n",
    "\n",
    "## The below exercises required to use wine.data"
   ]
  },
  {
   "cell_type": "markdown",
   "id": "20f5b122",
   "metadata": {},
   "source": [
    "8. Import the dataset wine.txt from the folder and assign it to a object called wine\n",
    "Please note that the original data text file doesn't contain any header. Please ensure that when you import the data, you should use a suitable argument so as to avoid data getting imported as header."
   ]
  },
  {
   "cell_type": "code",
   "execution_count": 7,
   "id": "39436142",
   "metadata": {},
   "outputs": [
    {
     "name": "stdout",
     "output_type": "stream",
     "text": [
      "   0      1     2     3     4    5     6     7     8     9     10    11    12  \\\n",
      "0   1  14.23  1.71  2.43  15.6  127  2.80  3.06  0.28  2.29  5.64  1.04  3.92   \n",
      "1   1  13.20  1.78  2.14  11.2  100  2.65  2.76  0.26  1.28  4.38  1.05  3.40   \n",
      "2   1  13.16  2.36  2.67  18.6  101  2.80  3.24  0.30  2.81  5.68  1.03  3.17   \n",
      "3   1  14.37  1.95  2.50  16.8  113  3.85  3.49  0.24  2.18  7.80  0.86  3.45   \n",
      "4   1  13.24  2.59  2.87  21.0  118  2.80  2.69  0.39  1.82  4.32  1.04  2.93   \n",
      "\n",
      "     13  \n",
      "0  1065  \n",
      "1  1050  \n",
      "2  1185  \n",
      "3  1480  \n",
      "4   735  \n"
     ]
    }
   ],
   "source": [
    "import pandas as pd\n",
    "\n",
    "\n",
    "wine = pd.read_csv('wine.txt', header=None)\n",
    "\n",
    "print(wine.head())\n"
   ]
  },
  {
   "cell_type": "markdown",
   "id": "0d5be804",
   "metadata": {},
   "source": [
    "9. Delete the first, fourth, seventh, nineth, eleventh, thirteenth and fourteenth columns"
   ]
  },
  {
   "cell_type": "code",
   "execution_count": 8,
   "id": "ad8dfcbd",
   "metadata": {},
   "outputs": [
    {
     "name": "stdout",
     "output_type": "stream",
     "text": [
      "      1     2     4    5     7     9     11\n",
      "0  14.23  1.71  15.6  127  3.06  2.29  1.04\n",
      "1  13.20  1.78  11.2  100  2.76  1.28  1.05\n",
      "2  13.16  2.36  18.6  101  3.24  2.81  1.03\n",
      "3  14.37  1.95  16.8  113  3.49  2.18  0.86\n",
      "4  13.24  2.59  21.0  118  2.69  1.82  1.04\n"
     ]
    }
   ],
   "source": [
    "\n",
    "columns_to_delete = [0, 3, 6, 8, 10, 12, 13]\n",
    "\n",
    "\n",
    "wine = wine.drop(columns=columns_to_delete, axis=1)\n",
    "\n",
    "\n",
    "print(wine.head())\n"
   ]
  },
  {
   "cell_type": "raw",
   "id": "4d9bdef0",
   "metadata": {},
   "source": [
    "### 10. Assign the columns as below:\n",
    "\n",
    "The attributes are (dontated by Riccardo Leardi, riclea '@' anchem.unige.it):  \n",
    "1) alcohol  \n",
    "2) malic_acid  \n",
    "3) alcalinity_of_ash  \n",
    "4) magnesium  \n",
    "5) flavanoids  \n",
    "6) proanthocyanins  \n",
    "7) hue "
   ]
  },
  {
   "cell_type": "code",
   "execution_count": 9,
   "id": "0ac1e231",
   "metadata": {},
   "outputs": [
    {
     "name": "stdout",
     "output_type": "stream",
     "text": [
      "   alcohol  malic_acid  alcalinity_of_ash  magnesium  flavanoids  \\\n",
      "0    14.23        1.71               15.6        127        3.06   \n",
      "1    13.20        1.78               11.2        100        2.76   \n",
      "2    13.16        2.36               18.6        101        3.24   \n",
      "3    14.37        1.95               16.8        113        3.49   \n",
      "4    13.24        2.59               21.0        118        2.69   \n",
      "\n",
      "   proanthocyanins   hue  \n",
      "0             2.29  1.04  \n",
      "1             1.28  1.05  \n",
      "2             2.81  1.03  \n",
      "3             2.18  0.86  \n",
      "4             1.82  1.04  \n"
     ]
    }
   ],
   "source": [
    "\n",
    "new_columns = ['alcohol', 'malic_acid', 'alcalinity_of_ash', 'magnesium', 'flavanoids', 'proanthocyanins', 'hue']\n",
    "\n",
    "wine.columns = new_columns\n",
    "\n",
    "\n",
    "print(wine.head())\n"
   ]
  },
  {
   "cell_type": "markdown",
   "id": "8bf9ce62",
   "metadata": {},
   "source": [
    "11. Set the values of the first 3 values from alcohol column as NaN"
   ]
  },
  {
   "cell_type": "code",
   "execution_count": 11,
   "id": "84804546",
   "metadata": {},
   "outputs": [
    {
     "name": "stdout",
     "output_type": "stream",
     "text": [
      "   alcohol  malic_acid  alcalinity_of_ash  magnesium  flavanoids  \\\n",
      "0      NaN        1.71               15.6        127        3.06   \n",
      "1      NaN        1.78               11.2        100        2.76   \n",
      "2      NaN        2.36               18.6        101        3.24   \n",
      "3    14.37        1.95               16.8        113        3.49   \n",
      "4    13.24        2.59               21.0        118        2.69   \n",
      "\n",
      "   proanthocyanins   hue  \n",
      "0             2.29  1.04  \n",
      "1             1.28  1.05  \n",
      "2             2.81  1.03  \n",
      "3             2.18  0.86  \n",
      "4             1.82  1.04  \n"
     ]
    }
   ],
   "source": [
    "import pandas as pd\n",
    "import numpy as np\n",
    "\n",
    "wine.loc[:2, 'alcohol'] = np.nan\n",
    "\n",
    "print(wine.head())\n"
   ]
  },
  {
   "cell_type": "markdown",
   "id": "8b7a4907",
   "metadata": {},
   "source": [
    "12. Now set the value of the rows 3 and 4 of magnesium as NaN"
   ]
  },
  {
   "cell_type": "code",
   "execution_count": 12,
   "id": "24824e54",
   "metadata": {},
   "outputs": [
    {
     "name": "stdout",
     "output_type": "stream",
     "text": [
      "   alcohol  malic_acid  alcalinity_of_ash  magnesium  flavanoids  \\\n",
      "0      NaN        1.71               15.6      127.0        3.06   \n",
      "1      NaN        1.78               11.2      100.0        2.76   \n",
      "2      NaN        2.36               18.6        NaN        3.24   \n",
      "3    14.37        1.95               16.8        NaN        3.49   \n",
      "4    13.24        2.59               21.0      118.0        2.69   \n",
      "\n",
      "   proanthocyanins   hue  \n",
      "0             2.29  1.04  \n",
      "1             1.28  1.05  \n",
      "2             2.81  1.03  \n",
      "3             2.18  0.86  \n",
      "4             1.82  1.04  \n"
     ]
    }
   ],
   "source": [
    "wine.loc[2:3, 'magnesium'] = np.nan\n",
    "print(wine.head())\n"
   ]
  },
  {
   "cell_type": "markdown",
   "id": "48de4601",
   "metadata": {},
   "source": [
    "13. Fill the value of NaN with the number 10 in alcohol and 100 in magnesium¶"
   ]
  },
  {
   "cell_type": "code",
   "execution_count": 13,
   "id": "8d352950",
   "metadata": {},
   "outputs": [
    {
     "name": "stdout",
     "output_type": "stream",
     "text": [
      "   alcohol  malic_acid  alcalinity_of_ash  magnesium  flavanoids  \\\n",
      "0    10.00        1.71               15.6      127.0        3.06   \n",
      "1    10.00        1.78               11.2      100.0        2.76   \n",
      "2    10.00        2.36               18.6      100.0        3.24   \n",
      "3    14.37        1.95               16.8      100.0        3.49   \n",
      "4    13.24        2.59               21.0      118.0        2.69   \n",
      "\n",
      "   proanthocyanins   hue  \n",
      "0             2.29  1.04  \n",
      "1             1.28  1.05  \n",
      "2             2.81  1.03  \n",
      "3             2.18  0.86  \n",
      "4             1.82  1.04  \n"
     ]
    }
   ],
   "source": [
    "wine['alcohol'].fillna(10, inplace=True)\n",
    "wine['magnesium'].fillna(100, inplace=True)\n",
    "print(wine.head())\n"
   ]
  },
  {
   "cell_type": "markdown",
   "id": "43325366",
   "metadata": {},
   "source": [
    "14. Count the number of missing values in all columns.\n",
    "​"
   ]
  },
  {
   "cell_type": "code",
   "execution_count": 14,
   "id": "14169066",
   "metadata": {},
   "outputs": [
    {
     "name": "stdout",
     "output_type": "stream",
     "text": [
      "alcohol              0\n",
      "malic_acid           0\n",
      "alcalinity_of_ash    0\n",
      "magnesium            0\n",
      "flavanoids           0\n",
      "proanthocyanins      0\n",
      "hue                  0\n",
      "dtype: int64\n"
     ]
    }
   ],
   "source": [
    "missing_values = wine.isna().sum()\n",
    "print(missing_values)\n"
   ]
  },
  {
   "cell_type": "markdown",
   "id": "e92b3d7e",
   "metadata": {},
   "source": [
    "15. Create an array of 10 random numbers up until 10 and save it.\n",
    "​"
   ]
  },
  {
   "cell_type": "code",
   "execution_count": 15,
   "id": "258c68c7",
   "metadata": {},
   "outputs": [
    {
     "name": "stdout",
     "output_type": "stream",
     "text": [
      "[1 5 9 9 8 8 3 5 0 3]\n"
     ]
    }
   ],
   "source": [
    "random_numbers = np.random.randint(10, size=10)\n",
    "print(random_numbers)\n"
   ]
  },
  {
   "cell_type": "markdown",
   "id": "05f7ac02",
   "metadata": {},
   "source": [
    "16. Set the rows corresponding to the random numbers to NaN in the column alcohol"
   ]
  },
  {
   "cell_type": "code",
   "execution_count": 16,
   "id": "fd260b9e",
   "metadata": {},
   "outputs": [
    {
     "name": "stdout",
     "output_type": "stream",
     "text": [
      "   alcohol  malic_acid  alcalinity_of_ash  magnesium  flavanoids  \\\n",
      "0      NaN        1.71               15.6      127.0        3.06   \n",
      "1      NaN        1.78               11.2      100.0        2.76   \n",
      "2    10.00        2.36               18.6      100.0        3.24   \n",
      "3      NaN        1.95               16.8      100.0        3.49   \n",
      "4    13.24        2.59               21.0      118.0        2.69   \n",
      "\n",
      "   proanthocyanins   hue  \n",
      "0             2.29  1.04  \n",
      "1             1.28  1.05  \n",
      "2             2.81  1.03  \n",
      "3             2.18  0.86  \n",
      "4             1.82  1.04  \n"
     ]
    }
   ],
   "source": [
    "wine.loc[random_numbers, 'alcohol'] = np.nan\n",
    "print(wine.head())\n"
   ]
  },
  {
   "cell_type": "markdown",
   "id": "b5e88b26",
   "metadata": {},
   "source": [
    "### 17.  How many missing values do we have now?"
   ]
  },
  {
   "cell_type": "code",
   "execution_count": 17,
   "id": "d46f49bc",
   "metadata": {},
   "outputs": [
    {
     "name": "stdout",
     "output_type": "stream",
     "text": [
      "Number of missing values in the 'alcohol' column: 6\n"
     ]
    }
   ],
   "source": [
    "missing_values_alcohol = wine['alcohol'].isna().sum()\n",
    "print(f\"Number of missing values in the 'alcohol' column: {missing_values_alcohol}\")\n"
   ]
  },
  {
   "cell_type": "markdown",
   "id": "035d43ec",
   "metadata": {},
   "source": [
    "18. Print only the non-null values in alcohol"
   ]
  },
  {
   "cell_type": "code",
   "execution_count": 18,
   "id": "0b0812f0",
   "metadata": {},
   "outputs": [
    {
     "name": "stdout",
     "output_type": "stream",
     "text": [
      "2      10.00\n",
      "4      13.24\n",
      "6      14.39\n",
      "7      14.06\n",
      "10     14.10\n",
      "       ...  \n",
      "173    13.71\n",
      "174    13.40\n",
      "175    13.27\n",
      "176    13.17\n",
      "177    14.13\n",
      "Name: alcohol, Length: 172, dtype: float64\n"
     ]
    }
   ],
   "source": [
    "non_null_alcohol_values = wine['alcohol'].notna()\n",
    "non_null_alcohol_data = wine.loc[non_null_alcohol_values, 'alcohol']\n",
    "print(non_null_alcohol_data)\n"
   ]
  },
  {
   "cell_type": "markdown",
   "id": "5ebeea96",
   "metadata": {},
   "source": [
    "19. Delete the rows that contain missing values"
   ]
  },
  {
   "cell_type": "code",
   "execution_count": 19,
   "id": "7c8ec2f0",
   "metadata": {},
   "outputs": [
    {
     "name": "stdout",
     "output_type": "stream",
     "text": [
      "     alcohol  malic_acid  alcalinity_of_ash  magnesium  flavanoids  \\\n",
      "2      10.00        2.36               18.6      100.0        3.24   \n",
      "4      13.24        2.59               21.0      118.0        2.69   \n",
      "6      14.39        1.87               14.6       96.0        2.52   \n",
      "7      14.06        2.15               17.6      121.0        2.51   \n",
      "10     14.10        2.16               18.0      105.0        3.32   \n",
      "..       ...         ...                ...        ...         ...   \n",
      "173    13.71        5.65               20.5       95.0        0.61   \n",
      "174    13.40        3.91               23.0      102.0        0.75   \n",
      "175    13.27        4.28               20.0      120.0        0.69   \n",
      "176    13.17        2.59               20.0      120.0        0.68   \n",
      "177    14.13        4.10               24.5       96.0        0.76   \n",
      "\n",
      "     proanthocyanins   hue  \n",
      "2               2.81  1.03  \n",
      "4               1.82  1.04  \n",
      "6               1.98  1.02  \n",
      "7               1.25  1.06  \n",
      "10              2.38  1.25  \n",
      "..               ...   ...  \n",
      "173             1.06  0.64  \n",
      "174             1.41  0.70  \n",
      "175             1.35  0.59  \n",
      "176             1.46  0.60  \n",
      "177             1.35  0.61  \n",
      "\n",
      "[172 rows x 7 columns]\n"
     ]
    }
   ],
   "source": [
    "wine_without_missing_values = wine.dropna()\n",
    "print(wine_without_missing_values)\n"
   ]
  },
  {
   "cell_type": "markdown",
   "id": "0851c363",
   "metadata": {},
   "source": [
    "20. Reset the index, so it starts with 0 again"
   ]
  },
  {
   "cell_type": "code",
   "execution_count": 20,
   "id": "f4b18a58",
   "metadata": {},
   "outputs": [
    {
     "name": "stdout",
     "output_type": "stream",
     "text": [
      "     alcohol  malic_acid  alcalinity_of_ash  magnesium  flavanoids  \\\n",
      "0      10.00        2.36               18.6      100.0        3.24   \n",
      "1      13.24        2.59               21.0      118.0        2.69   \n",
      "2      14.39        1.87               14.6       96.0        2.52   \n",
      "3      14.06        2.15               17.6      121.0        2.51   \n",
      "4      14.10        2.16               18.0      105.0        3.32   \n",
      "..       ...         ...                ...        ...         ...   \n",
      "167    13.71        5.65               20.5       95.0        0.61   \n",
      "168    13.40        3.91               23.0      102.0        0.75   \n",
      "169    13.27        4.28               20.0      120.0        0.69   \n",
      "170    13.17        2.59               20.0      120.0        0.68   \n",
      "171    14.13        4.10               24.5       96.0        0.76   \n",
      "\n",
      "     proanthocyanins   hue  \n",
      "0               2.81  1.03  \n",
      "1               1.82  1.04  \n",
      "2               1.98  1.02  \n",
      "3               1.25  1.06  \n",
      "4               2.38  1.25  \n",
      "..               ...   ...  \n",
      "167             1.06  0.64  \n",
      "168             1.41  0.70  \n",
      "169             1.35  0.59  \n",
      "170             1.46  0.60  \n",
      "171             1.35  0.61  \n",
      "\n",
      "[172 rows x 7 columns]\n"
     ]
    }
   ],
   "source": [
    "wine_without_missing_values_reset_index = wine_without_missing_values.reset_index(drop=True)\n",
    "print(wine_without_missing_values_reset_index)\n"
   ]
  },
  {
   "cell_type": "code",
   "execution_count": null,
   "id": "ec504d00",
   "metadata": {},
   "outputs": [],
   "source": []
  }
 ],
 "metadata": {
  "kernelspec": {
   "display_name": "Python 3 (ipykernel)",
   "language": "python",
   "name": "python3"
  },
  "language_info": {
   "codemirror_mode": {
    "name": "ipython",
    "version": 3
   },
   "file_extension": ".py",
   "mimetype": "text/x-python",
   "name": "python",
   "nbconvert_exporter": "python",
   "pygments_lexer": "ipython3",
   "version": "3.11.5"
  }
 },
 "nbformat": 4,
 "nbformat_minor": 5
}
